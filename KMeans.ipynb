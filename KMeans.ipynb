{
 "cells": [
  {
   "cell_type": "code",
   "execution_count": 6,
   "id": "172b0eff",
   "metadata": {},
   "outputs": [],
   "source": [
    "import numpy as np\n",
    "\n",
    "class KMeans:\n",
    "    def __init__(self, k=8, max_iterations=500):\n",
    "        self.k = k\n",
    "        self.max_iterations = max_iterations\n",
    "\n",
    "    def fit(self, X):\n",
    "        self.centroids = X[np.random.choice(range(len(X)), self.k, replace=False)]\n",
    "        for i in range(self.max_iterations):\n",
    "            clusters = [[] for _ in range(self.k)]\n",
    "            for point in X:\n",
    "                distances = np.linalg.norm(point - self.centroids, axis=1)\n",
    "                closest_centroid = np.argmin(distances)\n",
    "                clusters[closest_centroid].append(point)\n",
    "\n",
    "            prev_centroids = self.centroids.copy()\n",
    "            for j, cluster in enumerate(clusters):\n",
    "                if len(cluster) > 0:\n",
    "                    self.centroids[j] = np.mean(cluster, axis=0)\n",
    "\n",
    "            if np.allclose(prev_centroids, self.centroids):\n",
    "                break\n",
    "\n",
    "    def predict(self, X):\n",
    "        distances = np.linalg.norm(X - self.centroids[:, np.newaxis], axis=2)\n",
    "        return np.argmin(distances, axis=0)\n"
   ]
  },
  {
   "cell_type": "code",
   "execution_count": 12,
   "id": "09c976bf",
   "metadata": {},
   "outputs": [
    {
     "name": "stdout",
     "output_type": "stream",
     "text": [
      "[[-1.78259144e+00 -1.75002423e+00]\n",
      " [ 1.39249358e+00  2.28970355e+00]\n",
      " [-2.13211888e-01 -5.27230825e-03]\n",
      " [-3.88019169e-01 -7.07578715e-01]\n",
      " [-6.79454993e+00  5.05287672e+00]\n",
      " [ 4.00945519e-01  1.73133301e-01]\n",
      " [-9.39109727e-01  1.41398586e-03]\n",
      " [ 1.32120923e-01 -7.49035542e-01]\n",
      " [ 1.05126200e+00 -8.84812617e-01]\n",
      " [-1.63928071e+00  4.47331299e+00]]\n"
     ]
    }
   ],
   "source": [
    "import pandas as pd\n",
    "from sklearn.preprocessing import StandardScaler\n",
    "\n",
    "# Load the CSV file into a Pandas dataframe\n",
    "X = pd.read_csv('ufo_fullset.csv', usecols=['latitude', 'longitude'])\n",
    "\n",
    "# Select the features to use for clustering (all except the label column)\n",
    "\n",
    "# Scale the features using StandardScaler\n",
    "scaler = StandardScaler()\n",
    "X = scaler.fit_transform(X)\n",
    "\n",
    "# Create a KMeans instance with the desired number of clusters\n",
    "kmeans = KMeans(k=10)\n",
    "\n",
    "# Fit the model to the data\n",
    "kmeans.fit(X)\n",
    "\n",
    "# Predict the cluster assignments of the data\n",
    "y_pred = kmeans.predict(X)\n",
    "\n",
    "# Get the centroid points for each cluster\n",
    "centroids = kmeans.centroids\n",
    "\n",
    "# Print the centroid points\n",
    "print(centroids)\n",
    "\n",
    "\n",
    "# Add the predicted cluster assignments to the dataframe\n",
    "data['cluster'] = y_pred\n",
    "\n",
    "# Write the dataframe to a new CSV file\n",
    "data.to_csv('ufoclustered.csv', index=False)\n"
   ]
  },
  {
   "cell_type": "code",
   "execution_count": 8,
   "id": "c84f4aab",
   "metadata": {},
   "outputs": [
    {
     "name": "stdout",
     "output_type": "stream",
     "text": [
      "        latitude   longitude  cluster\n",
      "0      47.329444 -122.578889        3\n",
      "1      52.664913   -1.034894        2\n",
      "2      38.951667  -92.333889        6\n",
      "3      41.496944  -71.367778        9\n",
      "4      47.606389 -122.330833        3\n",
      "...          ...         ...      ...\n",
      "17995  42.033333  -87.733333        6\n",
      "17996  43.004444  -71.348889        9\n",
      "17997  36.866389  -83.888889        1\n",
      "17998  35.385833  -94.398333        1\n",
      "17999  29.883056  -97.941111        7\n",
      "\n",
      "[18000 rows x 3 columns]\n"
     ]
    }
   ],
   "source": [
    "Y = pd.read_csv('ufoclustered.csv')\n",
    "print(Y)"
   ]
  },
  {
   "cell_type": "code",
   "execution_count": null,
   "id": "c2fa3034",
   "metadata": {},
   "outputs": [],
   "source": []
  }
 ],
 "metadata": {
  "kernelspec": {
   "display_name": "Python 3.9 (tensorflow)",
   "language": "python",
   "name": "tensorflow"
  },
  "language_info": {
   "codemirror_mode": {
    "name": "ipython",
    "version": 3
   },
   "file_extension": ".py",
   "mimetype": "text/x-python",
   "name": "python",
   "nbconvert_exporter": "python",
   "pygments_lexer": "ipython3",
   "version": "3.9.13"
  }
 },
 "nbformat": 4,
 "nbformat_minor": 5
}
