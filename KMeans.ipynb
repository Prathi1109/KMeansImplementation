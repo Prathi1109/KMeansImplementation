{
 "cells": [
  {
   "cell_type": "code",
   "execution_count": 6,
   "id": "7a923a58",
   "metadata": {},
   "outputs": [],
   "source": [
    "import numpy as np\n",
    "\n",
    "class KMeans:\n",
    "    def __init__(self, k=8, max_iterations=500):\n",
    "        self.k = k\n",
    "        self.max_iterations = max_iterations\n",
    "\n",
    "    def fit(self, X):\n",
    "        self.centroids = X[np.random.choice(range(len(X)), self.k, replace=False)]\n",
    "        for i in range(self.max_iterations):\n",
    "            clusters = [[] for _ in range(self.k)]\n",
    "            for point in X:\n",
    "                distances = np.linalg.norm(point - self.centroids, axis=1)\n",
    "                closest_centroid = np.argmin(distances)\n",
    "                clusters[closest_centroid].append(point)\n",
    "\n",
    "            prev_centroids = self.centroids.copy()\n",
    "            for j, cluster in enumerate(clusters):\n",
    "                if len(cluster) > 0:\n",
    "                    self.centroids[j] = np.mean(cluster, axis=0)\n",
    "\n",
    "            if np.allclose(prev_centroids, self.centroids):\n",
    "                break\n",
    "\n",
    "    def predict(self, X):\n",
    "        distances = np.linalg.norm(X - self.centroids[:, np.newaxis], axis=2)\n",
    "        return np.argmin(distances, axis=0)\n"
   ]
  },
  {
   "cell_type": "code",
   "execution_count": 27,
   "id": "1a1726c8",
   "metadata": {},
   "outputs": [
    {
     "name": "stdout",
     "output_type": "stream",
     "text": [
      "The data\n",
      "     latitude   longitude\n",
      "0  47.329444 -122.578889\n",
      "1  52.664913   -1.034894\n",
      "2  38.951667  -92.333889\n",
      "3  41.496944  -71.367778\n",
      "4  47.606389 -122.330833\n",
      "<class 'pandas.core.frame.DataFrame'>\n",
      "RangeIndex: 18000 entries, 0 to 17999\n",
      "Data columns (total 2 columns):\n",
      " #   Column     Non-Null Count  Dtype  \n",
      "---  ------     --------------  -----  \n",
      " 0   latitude   18000 non-null  float64\n",
      " 1   longitude  18000 non-null  float64\n",
      "dtypes: float64(2)\n",
      "memory usage: 281.4 KB\n",
      "None\n",
      "Are there any missing values? False\n",
      "The final locations of the UFO sites are as follows \n",
      " [[  32.432354  -95.53003 ]\n",
      " [  39.60291  -106.66493 ]\n",
      " [  35.303215 -117.87051 ]\n",
      " [  31.495398   40.178288]\n",
      " [  26.050009  -80.66622 ]\n",
      " [  41.9247    -90.50136 ]\n",
      " [  46.81402  -121.39599 ]\n",
      " [  41.55192   -74.30462 ]\n",
      " [  42.989964 -153.59532 ]\n",
      " [  37.42338   -82.76806 ]]\n"
     ]
    }
   ],
   "source": [
    "import pandas as pd\n",
    "from sklearn.preprocessing import StandardScaler\n",
    "\n",
    "# Load the CSV file into a Pandas dataframe\n",
    "data = pd.read_csv('ufo_fullset.csv', usecols=['latitude', 'longitude'])\n",
    "\n",
    "print(f\"The data\\n {data.head()}\")\n",
    "print(data.info())\n",
    "\n",
    "# Handle missing values if any \n",
    "\n",
    "missing_values = data.isnull().values.any()\n",
    "print(f'Are there any missing values? {missing_values}')\n",
    "if(missing_values):\n",
    "    data[data.isnull().any(axis=1)]\n",
    "\n",
    "# Create a KMeans instance with 10 locations\n",
    "kmeans = KMeans(k=10)\n",
    "\n",
    "data_train = data.values.astype('float32')\n",
    "# Fit the model to the data\n",
    "kmeans.fit(data_train)\n",
    "\n",
    "# Predict the cluster assignments of the data\n",
    "y_pred = kmeans.predict(data_train)\n",
    "\n",
    "# Get the centroid points for each cluster\n",
    "centroids = kmeans.centroids\n",
    "\n",
    "# Print the centroid points\n",
    "print(f'The final locations of the UFO sites are as follows \\n {centroids}')\n",
    "\n",
    "\n",
    "# Add the predicted cluster assignments to the dataframe\n",
    "data['cluster'] = y_pred\n",
    "\n",
    "# Write the dataframe to a new CSV file\n",
    "data.to_csv('ufoclustered.csv', index=False)\n"
   ]
  },
  {
   "cell_type": "code",
   "execution_count": 8,
   "id": "3d4dc2ad",
   "metadata": {},
   "outputs": [
    {
     "name": "stdout",
     "output_type": "stream",
     "text": [
      "        latitude   longitude  cluster\n",
      "0      47.329444 -122.578889        3\n",
      "1      52.664913   -1.034894        2\n",
      "2      38.951667  -92.333889        6\n",
      "3      41.496944  -71.367778        9\n",
      "4      47.606389 -122.330833        3\n",
      "...          ...         ...      ...\n",
      "17995  42.033333  -87.733333        6\n",
      "17996  43.004444  -71.348889        9\n",
      "17997  36.866389  -83.888889        1\n",
      "17998  35.385833  -94.398333        1\n",
      "17999  29.883056  -97.941111        7\n",
      "\n",
      "[18000 rows x 3 columns]\n"
     ]
    }
   ],
   "source": [
    "Y = pd.read_csv('ufoclustered.csv')\n",
    "print(Y)"
   ]
  },
  {
   "cell_type": "code",
   "execution_count": null,
   "id": "a19a0260",
   "metadata": {},
   "outputs": [],
   "source": []
  }
 ],
 "metadata": {
  "kernelspec": {
   "display_name": "Python 3.9 (tensorflow)",
   "language": "python",
   "name": "tensorflow"
  },
  "language_info": {
   "codemirror_mode": {
    "name": "ipython",
    "version": 3
   },
   "file_extension": ".py",
   "mimetype": "text/x-python",
   "name": "python",
   "nbconvert_exporter": "python",
   "pygments_lexer": "ipython3",
   "version": "3.9.13"
  }
 },
 "nbformat": 4,
 "nbformat_minor": 5
}
